{
 "cells": [
  {
   "cell_type": "markdown",
   "id": "834061f0",
   "metadata": {},
   "source": [
    "# Connecting to a SQL Database"
   ]
  },
  {
   "cell_type": "markdown",
   "id": "34cb8641",
   "metadata": {},
   "source": [
    "## Setup"
   ]
  },
  {
   "cell_type": "code",
   "execution_count": 16,
   "id": "f50bdee1-25c0-472e-a739-c8551b5c5349",
   "metadata": {
    "height": 148
   },
   "outputs": [],
   "source": [
    "import os\n",
    "from IPython.display import Markdown, HTML, display\n",
    "from langchain.chat_models import AzureChatOpenAI\n",
    "from langchain.agents import create_sql_agent\n",
    "from langchain.agents.agent_toolkits import SQLDatabaseToolkit\n",
    "from langchain.sql_database import SQLDatabase\n",
    "#from langchain_openai import AzureChatOpenAI\n",
    "from langchain_community.llms import Ollama\n",
    "from langchain_openai import OpenAI\n",
    "from langchain_openai import ChatOpenAI\n"
   ]
  },
  {
   "cell_type": "markdown",
   "id": "730f966e",
   "metadata": {},
   "source": [
    "## Recover the original dataset"
   ]
  },
  {
   "cell_type": "markdown",
   "id": "95771d97",
   "metadata": {},
   "source": [
    "**Note**: To access the data locally, use the following code:\n",
    "\n",
    "```\n",
    "os.makedirs(\"data\",exist_ok=True)\n",
    "!wget https://covidtracking.com/data/download/all-states-history.csv -P ./data/\n",
    "file_url = \"./data/all-states-history.csv\"\n",
    "df = pd.read_csv(file_url).fillna(value = 0)\n",
    "```"
   ]
  },
  {
   "cell_type": "code",
   "execution_count": 17,
   "id": "37246b14-8a2a-4396-b592-16c1b8b62973",
   "metadata": {
    "height": 98
   },
   "outputs": [],
   "source": [
    "from sqlalchemy import create_engine\n",
    "import pandas as pd\n",
    "\n",
    "\n",
    "df = pd.read_csv(\"./data/all-states-history.csv\").fillna(value = 0)"
   ]
  },
  {
   "cell_type": "markdown",
   "id": "8df5c4c1",
   "metadata": {},
   "source": [
    "## Move the data to the SQL database"
   ]
  },
  {
   "cell_type": "code",
   "execution_count": 18,
   "id": "6bb39f31-4ab3-4c95-a55d-4140fd68711f",
   "metadata": {
    "height": 251
   },
   "outputs": [
    {
     "data": {
      "text/plain": [
       "20780"
      ]
     },
     "execution_count": 18,
     "metadata": {},
     "output_type": "execute_result"
    }
   ],
   "source": [
    "# Path to your SQLite database file\n",
    "database_file_path = \"./db/test.db\"\n",
    "\n",
    "# Create an engine to connect to the SQLite database\n",
    "# SQLite only requires the path to the database file\n",
    "engine = create_engine(f'sqlite:///{database_file_path}')\n",
    "file_url = \"./data/all-states-history.csv\"\n",
    "df = pd.read_csv(file_url).fillna(value = 0)\n",
    "df.to_sql(\n",
    "    'all_states_history',\n",
    "    con=engine,\n",
    "    if_exists='replace',\n",
    "    index=False\n",
    ")"
   ]
  },
  {
   "cell_type": "markdown",
   "id": "8307ac30",
   "metadata": {},
   "source": [
    "## Prepare the SQL prompt"
   ]
  },
  {
   "cell_type": "code",
   "execution_count": 19,
   "id": "a2e02e43-c499-4897-9981-78e7fbae3491",
   "metadata": {
    "height": 608
   },
   "outputs": [],
   "source": [
    "MSSQL_AGENT_PREFIX = \"\"\"\n",
    "\n",
    "You are an agent designed to interact with a SQL database.\n",
    "## Instructions:\n",
    "- Given an input question, create a syntactically correct {dialect} query\n",
    "to run, then look at the results of the query and return the answer.\n",
    "- Unless the user specifies a specific number of examples they wish to\n",
    "obtain, **ALWAYS** limit your query to at most {top_k} results.\n",
    "- You can order the results by a relevant column to return the most\n",
    "interesting examples in the database.\n",
    "- Never query for all the columns from a specific table, only ask for\n",
    "the relevant columns given the question.\n",
    "- You have access to tools for interacting with the database.\n",
    "- You MUST double check your query before executing it.If you get an error\n",
    "while executing a query,rewrite the query and try again.\n",
    "- DO NOT make any DML statements (INSERT, UPDATE, DELETE, DROP etc.)\n",
    "to the database.\n",
    "- DO NOT MAKE UP AN ANSWER OR USE PRIOR KNOWLEDGE, ONLY USE THE RESULTS\n",
    "OF THE CALCULATIONS YOU HAVE DONE.\n",
    "- Your response should be in Markdown. However, **when running  a SQL Query\n",
    "in \"Action Input\", do not include the markdown backticks**.\n",
    "Those are only for formatting the response, not for executing the command.\n",
    "- ALWAYS, as part of your final answer, explain how you got to the answer\n",
    "on a section that starts with: \"Explanation:\". Include the SQL query as\n",
    "part of the explanation section.\n",
    "- If the question does not seem related to the database, just return\n",
    "\"I don\\'t know\" as the answer.\n",
    "- Only use the below tools. Only use the information returned by the\n",
    "below tools to construct your query and final answer.\n",
    "- Do not make up table names, only use the tables returned by any of the\n",
    "tools below.\n",
    "\n",
    "## Tools:\n",
    "\n",
    "\"\"\""
   ]
  },
  {
   "cell_type": "code",
   "execution_count": 20,
   "id": "e70cd29a-c369-4419-ae27-e1f9912b5064",
   "metadata": {
    "height": 693
   },
   "outputs": [],
   "source": [
    "MSSQL_AGENT_FORMAT_INSTRUCTIONS = \"\"\"\n",
    "\n",
    "## Use the following format:\n",
    "\n",
    "Question: the input question you must answer.\n",
    "Thought: you should always think about what to do.\n",
    "Action: the action to take, should be one of [{tool_names}].\n",
    "Action Input: the input to the action.\n",
    "Observation: the result of the action.\n",
    "... (this Thought/Action/Action Input/Observation can repeat N times)\n",
    "Thought: I now know the final answer.\n",
    "Final Answer: the final answer to the original input question.\n",
    "\n",
    "Example of Final Answer:\n",
    "<=== Beginning of example\n",
    "\n",
    "Action: query_sql_db\n",
    "Action Input: \n",
    "SELECT TOP (10) [death]\n",
    "FROM covidtracking \n",
    "WHERE state = 'TX' AND date LIKE '2020%'\n",
    "\n",
    "Observation:\n",
    "[(27437.0,), (27088.0,), (26762.0,), (26521.0,), (26472.0,), (26421.0,), (26408.0,)]\n",
    "Thought:I now know the final answer\n",
    "Final Answer: There were 27437 people who died of covid in Texas in 2020.\n",
    "\n",
    "Explanation:\n",
    "I queried the `covidtracking` table for the `death` column where the state\n",
    "is 'TX' and the date starts with '2020'. The query returned a list of tuples\n",
    "with the number of deaths for each day in 2020. To answer the question,\n",
    "I took the sum of all the deaths in the list, which is 27437.\n",
    "I used the following query\n",
    "\n",
    "```sql\n",
    "SELECT [death] FROM covidtracking WHERE state = 'TX' AND date LIKE '2020%'\"\n",
    "```\n",
    "===> End of Example\n",
    "\n",
    "\"\"\""
   ]
  },
  {
   "cell_type": "markdown",
   "id": "a9350e98",
   "metadata": {},
   "source": [
    "## Call the OpenAI  Chat model and create the SQL agent"
   ]
  },
  {
   "cell_type": "markdown",
   "id": "2816f00e",
   "metadata": {},
   "source": [
    "API Key needs to be set in the environment , \n",
    "\n",
    "import os\n",
    "os.environ[\"OPENAI_API_KEY\"]=\"<PASTE OPENAPI API KEY HERE>\"\n",
    "print(os.getenv(\"OPENAI_API_KEY\"))"
   ]
  },
  {
   "cell_type": "code",
   "execution_count": 21,
   "id": "c6f7b93c",
   "metadata": {},
   "outputs": [],
   "source": [
    "# Load the Ollama model\n",
    "#model_name = \"llama3.2:1b\" #\"wizardcoder:python\"\n",
    "#llm = Ollama(model=model_name)\n",
    "llm = ChatOpenAI(\n",
    "    model=\"gpt-4\",\n",
    "    temperature=0,\n",
    "    max_retries=2,\n",
    "    #api_key=\"<OPENAI API KEY>\", #If environment based is not working\n",
    "    #max_tokens=1000,\n",
    "    # base_url=\"...\",\n",
    "    # organization=\"...\",\n",
    ")\n",
    "\n",
    "# Connect to the local SQLite database\n",
    "database_uri = \"sqlite:///db/test.db\"\n",
    "db = SQLDatabase.from_uri(database_uri)\n",
    "toolkit = SQLDatabaseToolkit(db=db, llm=llm)"
   ]
  },
  {
   "cell_type": "code",
   "execution_count": 22,
   "id": "50e7259a-ee4b-4c8f-a0fa-f747237ad6a4",
   "metadata": {
    "height": 234
   },
   "outputs": [],
   "source": [
    "QUESTION = \"\"\"Get no of patients per year from FL and NY\n",
    "Use the hospitalizedIncrease column\n",
    "\"\"\"\n",
    "\n",
    "agent_executor_SQL = create_sql_agent(\n",
    "    prefix=MSSQL_AGENT_PREFIX,\n",
    "    format_instructions = MSSQL_AGENT_FORMAT_INSTRUCTIONS,\n",
    "    llm=llm,\n",
    "    toolkit=toolkit,\n",
    "    top_k=30,\n",
    "    verbose=True\n",
    ")"
   ]
  },
  {
   "cell_type": "markdown",
   "id": "9fea48e9",
   "metadata": {},
   "source": [
    "## Invoke the SQL model"
   ]
  },
  {
   "cell_type": "code",
   "execution_count": 23,
   "id": "953cee48-831b-4b87-98ef-359fafb7492d",
   "metadata": {
    "height": 30
   },
   "outputs": [
    {
     "name": "stdout",
     "output_type": "stream",
     "text": [
      "\n",
      "\n",
      "\u001b[1m> Entering new SQL Agent Executor chain...\u001b[0m\n",
      "\u001b[32;1m\u001b[1;3mAction: sql_db_list_tables\n",
      "Action Input: \"\"\u001b[0m\u001b[38;5;200m\u001b[1;3mall_states_history\u001b[0m\u001b[32;1m\u001b[1;3mThe table `all_states_history` seems to be the most relevant for this query. I should check its schema to understand its structure and the data it contains.\n",
      "Action: sql_db_schema\n",
      "Action Input: all_states_history\u001b[0m\u001b[33;1m\u001b[1;3m\n",
      "CREATE TABLE all_states_history (\n",
      "\tdate TEXT, \n",
      "\tstate TEXT, \n",
      "\tdeath FLOAT, \n",
      "\t\"deathConfirmed\" FLOAT, \n",
      "\t\"deathIncrease\" BIGINT, \n",
      "\t\"deathProbable\" FLOAT, \n",
      "\thospitalized FLOAT, \n",
      "\t\"hospitalizedCumulative\" FLOAT, \n",
      "\t\"hospitalizedCurrently\" FLOAT, \n",
      "\t\"hospitalizedIncrease\" BIGINT, \n",
      "\t\"inIcuCumulative\" FLOAT, \n",
      "\t\"inIcuCurrently\" FLOAT, \n",
      "\tnegative FLOAT, \n",
      "\t\"negativeIncrease\" BIGINT, \n",
      "\t\"negativeTestsAntibody\" FLOAT, \n",
      "\t\"negativeTestsPeopleAntibody\" FLOAT, \n",
      "\t\"negativeTestsViral\" FLOAT, \n",
      "\t\"onVentilatorCumulative\" FLOAT, \n",
      "\t\"onVentilatorCurrently\" FLOAT, \n",
      "\tpositive FLOAT, \n",
      "\t\"positiveCasesViral\" FLOAT, \n",
      "\t\"positiveIncrease\" BIGINT, \n",
      "\t\"positiveScore\" BIGINT, \n",
      "\t\"positiveTestsAntibody\" FLOAT, \n",
      "\t\"positiveTestsAntigen\" FLOAT, \n",
      "\t\"positiveTestsPeopleAntibody\" FLOAT, \n",
      "\t\"positiveTestsPeopleAntigen\" FLOAT, \n",
      "\t\"positiveTestsViral\" FLOAT, \n",
      "\trecovered FLOAT, \n",
      "\t\"totalTestEncountersViral\" FLOAT, \n",
      "\t\"totalTestEncountersViralIncrease\" BIGINT, \n",
      "\t\"totalTestResults\" FLOAT, \n",
      "\t\"totalTestResultsIncrease\" BIGINT, \n",
      "\t\"totalTestsAntibody\" FLOAT, \n",
      "\t\"totalTestsAntigen\" FLOAT, \n",
      "\t\"totalTestsPeopleAntibody\" FLOAT, \n",
      "\t\"totalTestsPeopleAntigen\" FLOAT, \n",
      "\t\"totalTestsPeopleViral\" FLOAT, \n",
      "\t\"totalTestsPeopleViralIncrease\" BIGINT, \n",
      "\t\"totalTestsViral\" FLOAT, \n",
      "\t\"totalTestsViralIncrease\" BIGINT\n",
      ")\n",
      "\n",
      "/*\n",
      "3 rows from all_states_history table:\n",
      "date\tstate\tdeath\tdeathConfirmed\tdeathIncrease\tdeathProbable\thospitalized\thospitalizedCumulative\thospitalizedCurrently\thospitalizedIncrease\tinIcuCumulative\tinIcuCurrently\tnegative\tnegativeIncrease\tnegativeTestsAntibody\tnegativeTestsPeopleAntibody\tnegativeTestsViral\tonVentilatorCumulative\tonVentilatorCurrently\tpositive\tpositiveCasesViral\tpositiveIncrease\tpositiveScore\tpositiveTestsAntibody\tpositiveTestsAntigen\tpositiveTestsPeopleAntibody\tpositiveTestsPeopleAntigen\tpositiveTestsViral\trecovered\ttotalTestEncountersViral\ttotalTestEncountersViralIncrease\ttotalTestResults\ttotalTestResultsIncrease\ttotalTestsAntibody\ttotalTestsAntigen\ttotalTestsPeopleAntibody\ttotalTestsPeopleAntigen\ttotalTestsPeopleViral\ttotalTestsPeopleViralIncrease\ttotalTestsViral\ttotalTestsViralIncrease\n",
      "2021-03-07\tAK\t305.0\t0.0\t0\t0.0\t1293.0\t1293.0\t33.0\t0\t0.0\t0.0\t0.0\t0\t0.0\t0.0\t1660758.0\t0.0\t2.0\t56886.0\t0.0\t0\t0\t0.0\t0.0\t0.0\t0.0\t68693.0\t0.0\t0.0\t0\t1731628.0\t0\t0.0\t0.0\t0.0\t0.0\t0.0\t0\t1731628.0\t0\n",
      "2021-03-07\tAL\t10148.0\t7963.0\t-1\t2185.0\t45976.0\t45976.0\t494.0\t0\t2676.0\t0.0\t1931711.0\t2087\t0.0\t0.0\t0.0\t1515.0\t0.0\t499819.0\t392077.0\t408\t0\t0.0\t0.0\t0.0\t0.0\t0.0\t295690.0\t0.0\t0\t2323788.0\t2347\t0.0\t0.0\t119757.0\t0.0\t2323788.0\t2347\t0.0\t0\n",
      "2021-03-07\tAR\t5319.0\t4308.0\t22\t1011.0\t14926.0\t14926.0\t335.0\t11\t0.0\t141.0\t2480716.0\t3267\t0.0\t0.0\t2480716.0\t1533.0\t65.0\t324818.0\t255726.0\t165\t0\t0.0\t0.0\t0.0\t81803.0\t0.0\t315517.0\t0.0\t0\t2736442.0\t3380\t0.0\t0.0\t0.0\t481311.0\t0.0\t0\t2736442.0\t3380\n",
      "*/\u001b[0m\u001b[32;1m\u001b[1;3mThe `all_states_history` table contains the `hospitalizedIncrease` column which is the number of new hospitalizations for each day. The `state` column contains the state code and the `date` column contains the date of the record. I can use these columns to calculate the number of patients per year for the states FL and NY. I will need to extract the year from the `date` column and group by it and the `state` column. I will then sum the `hospitalizedIncrease` column for each group. \n",
      "\n",
      "Action: sql_db_query_checker\n",
      "Action Input: \n",
      "```sql\n",
      "SELECT state, strftime('%Y', date) as year, SUM(hospitalizedIncrease) as patients\n",
      "FROM all_states_history\n",
      "WHERE state IN ('FL', 'NY')\n",
      "GROUP BY state, year\n",
      "ORDER BY state, year\n",
      "LIMIT 30\n",
      "```\u001b[0m\u001b[36;1m\u001b[1;3m```sql\n",
      "SELECT state, strftime('%Y', date) as year, SUM(hospitalizedIncrease) as patients\n",
      "FROM all_states_history\n",
      "WHERE state IN ('FL', 'NY')\n",
      "GROUP BY state, year\n",
      "ORDER BY state, year\n",
      "LIMIT 30\n",
      "```\u001b[0m\u001b[32;1m\u001b[1;3mThe query syntax is correct. Now I will run the query to get the number of patients per year from FL and NY.\n",
      "Action: sql_db_query\n",
      "Action Input: \n",
      "```sql\n",
      "SELECT state, strftime('%Y', date) as year, SUM(hospitalizedIncrease) as patients\n",
      "FROM all_states_history\n",
      "WHERE state IN ('FL', 'NY')\n",
      "GROUP BY state, year\n",
      "ORDER BY state, year\n",
      "LIMIT 30\n",
      "```\u001b[0m\u001b[36;1m\u001b[1;3mError: (sqlite3.OperationalError) near \"```sql\n",
      "SELECT state, strftime('%Y', date) as year, SUM(hospitalizedIncrease) as patients\n",
      "FROM all_states_history\n",
      "WHERE state IN ('FL', 'NY')\n",
      "GROUP BY state, year\n",
      "ORDER BY state, year\n",
      "LIMIT 30\n",
      "```\": syntax error\n",
      "[SQL: ```sql\n",
      "SELECT state, strftime('%Y', date) as year, SUM(hospitalizedIncrease) as patients\n",
      "FROM all_states_history\n",
      "WHERE state IN ('FL', 'NY')\n",
      "GROUP BY state, year\n",
      "ORDER BY state, year\n",
      "LIMIT 30\n",
      "```]\n",
      "(Background on this error at: https://sqlalche.me/e/20/e3q8)\u001b[0m\u001b[32;1m\u001b[1;3mI made a mistake by including the markdown backticks in the SQL query. I should remove them and try again.\n",
      "Action: sql_db_query\n",
      "Action Input: \n",
      "SELECT state, strftime('%Y', date) as year, SUM(hospitalizedIncrease) as patients\n",
      "FROM all_states_history\n",
      "WHERE state IN ('FL', 'NY')\n",
      "GROUP BY state, year\n",
      "ORDER BY state, year\n",
      "LIMIT 30\u001b[0m\u001b[36;1m\u001b[1;3m[('FL', '2020', 63741), ('FL', '2021', 18496), ('NY', '2020', 0), ('NY', '2021', 0)]\u001b[0m\u001b[32;1m\u001b[1;3mI now know the final answer.\n",
      "Final Answer: The number of patients per year from FL and NY are as follows:\n",
      "- FL: 63741 in 2020 and 18496 in 2021\n",
      "- NY: 0 in both 2020 and 2021\n",
      "\n",
      "Explanation: I queried the `all_states_history` table for the `state`, `date`, and `hospitalizedIncrease` columns where the state is either 'FL' or 'NY'. I grouped the results by state and year (extracted from the date), and summed the `hospitalizedIncrease` column for each group. The query returned a list of tuples with the state, year, and total number of patients for each year. The results show that there were 63741 patients in FL in 2020, 18496 in FL in 2021, and 0 in NY for both years. I used the following query:\n",
      "\n",
      "```sql\n",
      "SELECT state, strftime('%Y', date) as year, SUM(hospitalizedIncrease) as patients\n",
      "FROM all_states_history\n",
      "WHERE state IN ('FL', 'NY')\n",
      "GROUP BY state, year\n",
      "ORDER BY state, year\n",
      "LIMIT 30\n",
      "```\u001b[0m\n",
      "\n",
      "\u001b[1m> Finished chain.\u001b[0m\n"
     ]
    },
    {
     "data": {
      "text/plain": [
       "{'input': 'Get no of patients per year from FL and NY\\nUse the hospitalizedIncrease column\\n',\n",
       " 'output': \"The number of patients per year from FL and NY are as follows:\\n- FL: 63741 in 2020 and 18496 in 2021\\n- NY: 0 in both 2020 and 2021\\n\\nExplanation: I queried the `all_states_history` table for the `state`, `date`, and `hospitalizedIncrease` columns where the state is either 'FL' or 'NY'. I grouped the results by state and year (extracted from the date), and summed the `hospitalizedIncrease` column for each group. The query returned a list of tuples with the state, year, and total number of patients for each year. The results show that there were 63741 patients in FL in 2020, 18496 in FL in 2021, and 0 in NY for both years. I used the following query:\\n\\n```sql\\nSELECT state, strftime('%Y', date) as year, SUM(hospitalizedIncrease) as patients\\nFROM all_states_history\\nWHERE state IN ('FL', 'NY')\\nGROUP BY state, year\\nORDER BY state, year\\nLIMIT 30\\n```\"}"
      ]
     },
     "execution_count": 23,
     "metadata": {},
     "output_type": "execute_result"
    }
   ],
   "source": [
    "agent_executor_SQL.invoke(QUESTION)"
   ]
  },
  {
   "cell_type": "code",
   "execution_count": null,
   "id": "ea23bdfb",
   "metadata": {},
   "outputs": [],
   "source": []
  }
 ],
 "metadata": {
  "kernelspec": {
   "display_name": "ragdemo",
   "language": "python",
   "name": "python3"
  },
  "language_info": {
   "codemirror_mode": {
    "name": "ipython",
    "version": 3
   },
   "file_extension": ".py",
   "mimetype": "text/x-python",
   "name": "python",
   "nbconvert_exporter": "python",
   "pygments_lexer": "ipython3",
   "version": "3.11.11"
  }
 },
 "nbformat": 4,
 "nbformat_minor": 5
}
